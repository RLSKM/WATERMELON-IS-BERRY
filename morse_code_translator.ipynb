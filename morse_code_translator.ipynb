{
  "nbformat": 4,
  "nbformat_minor": 0,
  "metadata": {
    "colab": {
      "provenance": [],
      "include_colab_link": true
    },
    "kernelspec": {
      "name": "python3",
      "display_name": "Python 3"
    },
    "language_info": {
      "name": "python"
    }
  },
  "cells": [
    {
      "cell_type": "markdown",
      "metadata": {
        "id": "view-in-github",
        "colab_type": "text"
      },
      "source": [
        "<a href=\"https://colab.research.google.com/github/RLSKM/WATERMELON-IS-BERRY/blob/main/morse_code_translator.ipynb\" target=\"_parent\"><img src=\"https://colab.research.google.com/assets/colab-badge.svg\" alt=\"Open In Colab\"/></a>"
      ]
    },
    {
      "cell_type": "markdown",
      "source": [
        "### This is a blank Google Colab notebook. Use this space to work on adhoc exercises."
      ],
      "metadata": {
        "id": "dxYwT5arqKpD"
      }
    },
    {
      "cell_type": "code",
      "execution_count": null,
      "metadata": {
        "id": "3qyCZAXvqA9M",
        "colab": {
          "base_uri": "https://localhost:8080/"
        },
        "outputId": "bc6c56de-ea2d-4875-baf5-e4b4f1990317"
      },
      "outputs": [
        {
          "output_type": "stream",
          "name": "stdout",
          "text": [
            "word: urmom\n",
            "..- .-. -- --- -- "
          ]
        }
      ],
      "source": [
        "word = input(\"word: \")\n",
        "for char in word:\n",
        "    if char.upper() == \"A\":\n",
        "        print(\".- \", end = \"\")\n",
        "    elif char.upper() == \"B\":\n",
        "        print(\"-... \", end = \"\")\n",
        "    elif char.upper() == \"C\":\n",
        "        print(\"-.-. \", end = \"\")\n",
        "    elif char.upper() == \"D\":\n",
        "        print(\"-.. \", end = \"\")\n",
        "    elif char.upper() == \"E\":\n",
        "        print(\". \", end = \"\")\n",
        "    elif char.upper() == \"F\":\n",
        "        print(\"..-. \", end = \"\")\n",
        "    elif char.upper() == \"G\":\n",
        "        print(\"--. \", end = \"\")\n",
        "    elif char.upper() == \"H\":\n",
        "        print(\".... \", end = \"\")\n",
        "    elif char.upper() == \"I\":\n",
        "        print(\".. \", end = \"\")\n",
        "    elif char.upper() == \"J\":\n",
        "        print(\".--- \", end = \"\")\n",
        "    elif char.upper() == \"K\":\n",
        "        print(\"-.- \", end = \"\")\n",
        "    elif char.upper() == \"L\":\n",
        "        print(\".-.. \", end = \"\")\n",
        "    elif char.upper() == \"M\":\n",
        "        print(\"-- \", end = \"\")\n",
        "    elif char.upper() == \"N\":\n",
        "        print(\"-. \", end = \"\")\n",
        "    elif char.upper() == \"O\":\n",
        "        print(\"--- \", end = \"\")\n",
        "    elif char.upper() == \"P\":\n",
        "        print(\".--. \", end = \"\")\n",
        "    elif char.upper() == \"Q\":\n",
        "        print(\"--.- \", end = \"\")\n",
        "    elif char.upper() == \"R\":\n",
        "        print(\".-. \", end = \"\")\n",
        "    elif char.upper() == \"S\":\n",
        "        print(\"... \", end = \"\")\n",
        "    elif char.upper() == \"T\":\n",
        "        print(\"- \", end = \"\")\n",
        "    elif char.upper() == \"U\":\n",
        "        print(\"..- \", end = \"\")\n",
        "    elif char.upper() == \"V\":\n",
        "        print(\"...- \", end = \"\")\n",
        "    elif char.upper() == \"W\":\n",
        "        print(\".-- \", end = \"\")\n",
        "    elif char.upper() == \"X\":\n",
        "        print(\"-..- \", end = \"\")\n",
        "    elif char.upper() == \"Y\":\n",
        "        print(\"-.-- \", end = \"\")\n",
        "    elif char.upper() == \"Z\":\n",
        "        print(\"--.. \", end = \"\")\n",
        "    elif char == \"0\":\n",
        "        print(\"----- \", end = \"\")\n",
        "    elif char == \"1\":\n",
        "        print(\".---- \", end = \"\")\n",
        "    elif char == \"2\":\n",
        "        print(\"..--- \", end = \"\")\n",
        "    elif char == \"3\":\n",
        "        print(\"...-- \", end = \"\")\n",
        "    elif char == \"4\":\n",
        "        print(\"....- \", end = \"\")\n",
        "    elif char == \"5\":\n",
        "        print(\"..... \", end = \"\")\n",
        "    elif char == \"6\":\n",
        "        print(\"-.... \", end = \"\")\n",
        "    elif char == \"7\":\n",
        "        print(\"--... \", end = \"\")\n",
        "    elif char == \"8\":\n",
        "        print(\"---.. \", end = \"\")\n",
        "    elif char == \"9\":\n",
        "        print(\"----. \", end = \"\")\n",
        "    else:\n",
        "        print(\"invalid\")"
      ]
    }
  ]
}